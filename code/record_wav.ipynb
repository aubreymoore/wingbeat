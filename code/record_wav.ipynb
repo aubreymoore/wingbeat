{
 "cells": [
  {
   "cell_type": "code",
   "execution_count": 1,
   "id": "d6039f1b-679e-42a3-af1d-4df173a937e4",
   "metadata": {
    "tags": []
   },
   "outputs": [],
   "source": [
    "import pyaudio\n",
    "import wave"
   ]
  },
  {
   "cell_type": "code",
   "execution_count": 2,
   "id": "e9c3920b-a38a-4aff-8aa9-980cd9a39c2c",
   "metadata": {},
   "outputs": [
    {
     "name": "stdout",
     "output_type": "stream",
     "text": [
      "0 HDA Intel PCH: ALC1220 Analog (hw:0,0)\n",
      "1 HDA Intel PCH: ALC1220 Digital (hw:0,1)\n",
      "2 Cable Creation: USB Audio (hw:1,0)\n",
      "3 HDA NVidia: HDMI 0 (hw:2,3)\n",
      "4 HDA NVidia: HDMI 1 (hw:2,7)\n",
      "5 HDA NVidia: HDMI 2 (hw:2,8)\n",
      "6 HDA NVidia: HDMI 3 (hw:2,9)\n",
      "7 HDA NVidia: HDMI 4 (hw:2,10)\n",
      "8 HDA NVidia: HDMI 5 (hw:2,11)\n",
      "9 sysdefault\n",
      "10 front\n",
      "11 surround40\n",
      "12 surround51\n",
      "13 surround71\n",
      "14 iec958\n",
      "15 spdif\n",
      "16 samplerate\n",
      "17 speexrate\n",
      "18 pulse\n",
      "19 upmix\n",
      "20 vdownmix\n",
      "21 dmix\n",
      "22 default\n"
     ]
    }
   ],
   "source": [
    "p = pyaudio.PyAudio()\n",
    "for dev_index in range(p.get_device_count()):\n",
    "    print(dev_index, p.get_device_info_by_index(dev_index).get('name'))"
   ]
  },
  {
   "cell_type": "code",
   "execution_count": 3,
   "id": "ac289416-5225-45db-916b-65be9435f2bc",
   "metadata": {},
   "outputs": [],
   "source": [
    "AUDIO_FORMAT = pyaudio.paInt16    # 16-bit resolution\n",
    "CHANNELS = 1                      # 1 channel\n",
    "RATE = 44100                      # 44.1kHz sampling rate\n",
    "FRAMES_PER_BUFFER = 4096          # 2^12 samples for buffer\n",
    "RECORD_SECS = 120                 # seconds to record\n",
    "DEV_INDEX = 2                     # device index found by p.get_device_info_by_index()\n",
    "WAV_OUTPUT_FILENAME = 'shaded.wav' # name of .wav file"
   ]
  },
  {
   "cell_type": "code",
   "execution_count": 4,
   "id": "cc4c907b-bb42-42e0-a538-945c3153b23f",
   "metadata": {},
   "outputs": [
    {
     "name": "stdout",
     "output_type": "stream",
     "text": [
      "recording\n",
      "finished recording\n"
     ]
    }
   ],
   "source": [
    "audio = pyaudio.PyAudio() # create pyaudio instantiation\n",
    "\n",
    "# create pyaudio stream\n",
    "stream = audio.open(format = AUDIO_FORMAT,\n",
    "                    rate = RATE,\n",
    "                    channels = CHANNELS,\n",
    "                    input_device_index = DEV_INDEX,\n",
    "                    input = True,\n",
    "                    frames_per_buffer = FRAMES_PER_BUFFER)\n",
    "print(\"recording\")\n",
    "frames = []\n",
    "\n",
    "# loop through stream and append audio chunks to frame array\n",
    "for chunk in range(0,int((RATE/FRAMES_PER_BUFFER)*RECORD_SECS)):\n",
    "    data = stream.read(FRAMES_PER_BUFFER)\n",
    "    frames.append(data)\n",
    "\n",
    "print(\"finished recording\")\n",
    "\n",
    "# stop the stream, close it, and terminate the pyaudio instantiation\n",
    "stream.stop_stream()\n",
    "stream.close()\n",
    "audio.terminate()\n",
    "\n",
    "# save the audio frames as .wav file\n",
    "wavefile = wave.open(WAV_OUTPUT_FILENAME,'wb')\n",
    "wavefile.setnchannels(CHANNELS)\n",
    "wavefile.setsampwidth(audio.get_sample_size(AUDIO_FORMAT))\n",
    "wavefile.setframerate(RATE)\n",
    "wavefile.writeframes(b''.join(frames))\n",
    "wavefile.close()"
   ]
  }
 ],
 "metadata": {
  "kernelspec": {
   "display_name": "Python 3",
   "language": "python",
   "name": "python3"
  },
  "language_info": {
   "codemirror_mode": {
    "name": "ipython",
    "version": 3
   },
   "file_extension": ".py",
   "mimetype": "text/x-python",
   "name": "python",
   "nbconvert_exporter": "python",
   "pygments_lexer": "ipython3",
   "version": "3.8.8"
  }
 },
 "nbformat": 4,
 "nbformat_minor": 5
}
